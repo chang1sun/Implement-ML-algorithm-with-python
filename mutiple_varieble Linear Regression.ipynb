{
 "cells": [
  {
   "cell_type": "code",
   "execution_count": 39,
   "metadata": {},
   "outputs": [
    {
     "data": {
      "image/png": "[encoded data removed]",
      "text/plain": [
       "<Figure size 432x288 with 1 Axes>"
      ]
     },
     "metadata": {
      "needs_background": "light"
     },
     "output_type": "display_data"
    }
   ],
   "source": [
    "import pandas\n",
    "import numpy as np\n",
    "import matplotlib.pyplot as plt\n",
    "%matplotlib inline\n",
    "\n",
    "def feature_normlization(X): #特征缩放\n",
    "    mu = np.mean(X, axis = 0)\n",
    "    sigma = np.std(X, axis = 0, ddof=1)\n",
    "    X_norm = (X - mu)/sigma \n",
    "    return X_norm\n",
    "\n",
    "def cost_function(X, Y, theta): #代价函数的计算\n",
    "    cost = X@theta - Y\n",
    "    m = X.shape[0]\n",
    "    total_cost = cost.T.dot(cost)/(2*m)\n",
    "    return total_cost[0][0]\n",
    "\n",
    "def gradient_descent(X, Y, theta, alpha, iterations): #梯度下降\n",
    "   \n",
    "    m = len(X)\n",
    "    J_history = list()\n",
    "    for i in range(iterations):\n",
    "        cost = X@theta - Y\n",
    "        theta = theta - np.transpose((cost.T@X)*(alpha/m))\n",
    "        J_history.append(cost_function(X, Y, theta))\n",
    "    \n",
    "    return J_history, theta\n",
    "\n",
    "def learningRatePlot(X_norm, Y): #不同学习速率下的梯度下降比较\n",
    "    %matplotlib inline\n",
    "    colors = ['b', 'g', 'r', 'c', 'm', 'y', 'k']\n",
    "    plt.figure()\n",
    "    iter_num = 50\n",
    "    \n",
    "    for i, al in enumerate([0.01, 0.03, 0.1, 0.3, 1]):\n",
    "        ta = np.zeros((X_norm.shape[1], 1))\n",
    "        ta, J_history = gradient_descent(X_norm, Y, ta, al, iter_num)\n",
    " \n",
    "        plt.plot([i for i in range(len(J_history))], J_history, colors[i], label=str(al))\n",
    " \n",
    "    plt.title(\"learning rate\")\n",
    "    plt.legend()\n",
    "    plt.show()\n",
    "\n",
    "def normalEquation(X, Y): #正规方程\n",
    "    return np.linalg.inv(X.transpose().dot(X)).dot(X.transpose()).dot(y)\n",
    "\n",
    "if __name__ == '__main__':\n",
    "    data_path = r'D:\\code\\machine-learning-ex1\\machine-learning-ex1\\ex1\\ex1data2.txt'\n",
    "    data = pandas.read_csv(data_path, delimiter=\",\", header=None)\n",
    " \n",
    "    # 切分特征和目标\n",
    "    X = data.iloc[:, 0:2].values\n",
    "    Y = data.iloc[:, 2:3].values\n",
    "    X_norm = feature_normlization(X)\n",
    "    ones = np.ones((X_norm.shape[0], 1))# 假设函数中考虑截距，给每个样本增加一个为1的特征\n",
    "    X_norm = np.c_[ones, X_norm]\n",
    "    theta = np.zeros((X_norm.shape[1], 1))\n",
    "    alpha = 0.05\n",
    "    iterations = 100\n",
    "    J_history,theta = gradient_descent(X_norm, Y, theta, alpha, iterations)\n",
    "    plt.figure()\n",
    "    plt.plot([i for i in range(len(J_history))], J_history)\n",
    "    plt.title(\"learning rate: %f\" % alpha)\n",
    "    plt.show()"
   ]
  }
 ],
 "metadata": {
  "kernelspec": {
   "display_name": "Python 3",
   "language": "python",
   "name": "python3"
  },
  "language_info": {
   "codemirror_mode": {
    "name": "ipython",
    "version": 3
   },
   "file_extension": ".py",
   "mimetype": "text/x-python",
   "name": "python",
   "nbconvert_exporter": "python",
   "pygments_lexer": "ipython3",
   "version": "3.7.3"
  }
 },
 "nbformat": 4,
 "nbformat_minor": 2
}
