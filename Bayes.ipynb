{
 "cells": [
  {
   "cell_type": "code",
   "execution_count": 3,
   "metadata": {},
   "outputs": [],
   "source": [
    "import numpy as np\n",
    "import math\n",
    "from collections import Counter"
   ]
  },
  {
   "cell_type": "code",
   "execution_count": 4,
   "metadata": {},
   "outputs": [],
   "source": [
    "data = np.array([['青绿', '蜷缩', '浊响', '清晰', '凹陷', '硬滑', '0.697', '0.46', '是'],\n",
    " ['乌黑', '蜷缩', '沉闷', '清晰', '凹陷', '硬滑', '0.774', '0.376', '是'],\n",
    " ['乌黑', '蜷缩', '浊响', '清晰', '凹陷', '硬滑', '0.634', '0.264', '是'],\n",
    " ['青绿', '蜷缩', '沉闷', '清晰', '凹陷', '硬滑', '0.608', '0.318', '是'],\n",
    " ['浅白', '蜷缩', '浊响', '清晰', '凹陷', '硬滑', '0.556', '0.215', '是'],\n",
    " ['青绿', '稍蜷', '浊响', '清晰', '稍凹', '软粘', '0.403', '0.237', '是'],\n",
    " ['乌黑', '稍蜷', '浊响', '稍糊', '稍凹', '软粘', '0.481', '0.149', '是'],\n",
    " ['乌黑', '稍蜷', '浊响', '清晰', '稍凹', '硬滑', '0.437', '0.211', '是'],\n",
    " ['乌黑', '稍蜷', '沉闷', '稍糊', '稍凹', '硬滑', '0.666', '0.091', '否'],\n",
    " ['青绿', '硬挺', '清脆', '清晰', '平坦', '软粘', '0.243', '0.267', '否'],\n",
    " ['浅白', '硬挺', '清脆', '模糊', '平坦', '硬滑', '0.245', '0.057', '否'],\n",
    " ['浅白', '蜷缩', '浊响', '模糊', '平坦', '软粘', '0.343', '0.099', '否'],\n",
    " ['青绿', '稍蜷', '浊响', '稍糊', '凹陷', '硬滑', '0.639', '0.161', '否'],\n",
    " ['浅白', '稍蜷', '沉闷', '稍糊', '凹陷', '硬滑', '0.657', '0.198', '否'],\n",
    " ['乌黑', '稍蜷', '浊响', '清晰', '稍凹', '软粘', '0.36', '0.37', '否'],\n",
    " ['浅白', '蜷缩', '浊响', '模糊', '平坦', '硬滑', '0.593', '0.042', '否'],\n",
    " ['青绿', '蜷缩', '沉闷', '稍糊', '稍凹', '硬滑', '0.719', '0.103', '否']])"
   ]
  },
  {
   "cell_type": "code",
   "execution_count": 5,
   "metadata": {},
   "outputs": [],
   "source": [
    "# Naive Bayes\n",
    "class NB_classifier():\n",
    "    \n",
    "    def __init__(self, data, idx_successive=[]):\n",
    "        # record the index of those successive attributes\n",
    "        self.suc_idx = idx_successive\n",
    "        # record the types of classes\n",
    "        self.cla = list(set(data[:,-1]))\n",
    "        # record the classes' distribution\n",
    "        self.cla_idx = {}\n",
    "        # find classes index respectively\n",
    "        for c in self.cla:\n",
    "            self.cla_idx[c] = np.where(data[:,-1]==c)[0]\n",
    "        # initiate laplacian values(Nc) of each label\n",
    "        self.label_la = [len(set(data[:,i])) for i in range(len(data[0])-1)]\n",
    "        self.data = data\n",
    "             \n",
    "    def fit(self, row):\n",
    "        cla_score = Counter(self.cla)\n",
    "        for k, v in cla_score.items():\n",
    "            cla_score[k] = (len(self.cla_idx[k])+1) / (len(self.data)+len(self.cla))\n",
    "        \n",
    "        # calculate likelihood\n",
    "        for i, elem in enumerate(row):\n",
    "            for c in self.cla:\n",
    "                # successive attr\n",
    "                if i in self.suc_idx:\n",
    "                    col_vals = np.array(list(map(float, data[self.cla_idx[c]][:,i].tolist())))\n",
    "                    mean, std = col_vals.mean(), col_vals.std()\n",
    "                    p = math.exp(-pow(float(elem)-mean, 2) / (2*pow(std,2))) / (math.sqrt(2*np.pi)*std)\n",
    "\n",
    "                # discrete attr\n",
    "                else:\n",
    "                    selected = data[self.cla_idx[c]]\n",
    "                    p = (len(np.where(selected[:,i]==elem)[0])+1) / (len(selected)+self.label_la[i])\n",
    "                \n",
    "                cla_score[c] *= p\n",
    "#                 print(f\"对应属性{elem},类别为{c}的概率此时为：{p}\")\n",
    "#             print(\"当前score: \", cla_score)\n",
    "        return max(cla_score, key=cla_score.get)"
   ]
  },
  {
   "cell_type": "code",
   "execution_count": 7,
   "metadata": {},
   "outputs": [
    {
     "name": "stdout",
     "output_type": "stream",
     "text": [
      "对应属性青绿,类别为否的概率此时为：0.3333333333333333\n",
      "对应属性青绿,类别为是的概率此时为：0.36363636363636365\n",
      "当前score:  Counter({'否': 0.17543859649122806, '是': 0.17224880382775118})\n",
      "对应属性蜷缩,类别为否的概率此时为：0.3333333333333333\n",
      "对应属性蜷缩,类别为是的概率此时为：0.5454545454545454\n",
      "当前score:  Counter({'是': 0.09395389299695518, '否': 0.05847953216374269})\n",
      "对应属性浊响,类别为否的概率此时为：0.4166666666666667\n",
      "对应属性浊响,类别为是的概率此时为：0.6363636363636364\n",
      "当前score:  Counter({'是': 0.059788840998062386, '否': 0.024366471734892786})\n",
      "对应属性清晰,类别为否的概率此时为：0.25\n",
      "对应属性清晰,类别为是的概率此时为：0.7272727272727273\n",
      "当前score:  Counter({'是': 0.043482793453136284, '否': 0.0060916179337231965})\n",
      "对应属性凹陷,类别为否的概率此时为：0.25\n",
      "对应属性凹陷,类别为是的概率此时为：0.5454545454545454\n",
      "当前score:  Counter({'是': 0.023717887338074336, '否': 0.0015229044834307991})\n",
      "对应属性硬滑,类别为否的概率此时为：0.6363636363636364\n",
      "对应属性硬滑,类别为是的概率此时为：0.7\n",
      "当前score:  Counter({'是': 0.016602521136652035, '否': 0.0009691210349105085})\n",
      "对应属性0.697,类别为否的概率此时为：1.1941549741038926\n",
      "对应属性0.697,类别为是的概率此时为：1.9624922010858168\n",
      "当前score:  Counter({'是': 0.03258231824904205, '否': 0.001157280704347096})\n",
      "对应属性0.46,类别为否的概率此时为：0.04247745601349126\n",
      "对应属性0.46,类别为是的概率此时为：0.6691128065015616\n",
      "当前score:  Counter({'是': 0.02180124640594357, '否': 4.9158340214165954e-05})\n"
     ]
    },
    {
     "data": {
      "text/plain": [
       "'是'"
      ]
     },
     "execution_count": 7,
     "metadata": {},
     "output_type": "execute_result"
    }
   ],
   "source": [
    "nb = NB_classifier(data,idx_successive=[6,7])\n",
    "test = ['青绿', '蜷缩', '浊响', '清晰', '凹陷', '硬滑', '0.697', '0.460']\n",
    "nb.fit(test)"
   ]
  },
  {
   "cell_type": "code",
   "execution_count": 132,
   "metadata": {},
   "outputs": [
    {
     "data": {
      "text/plain": [
       "0.12086536724802519"
      ]
     },
     "execution_count": 132,
     "metadata": {},
     "output_type": "execute_result"
    }
   ],
   "source": [
    "math.sqrt(0.014608437)"
   ]
  }
 ],
 "metadata": {
  "kernelspec": {
   "display_name": "Python 3",
   "language": "python",
   "name": "python3"
  },
  "language_info": {
   "codemirror_mode": {
    "name": "ipython",
    "version": 3
   },
   "file_extension": ".py",
   "mimetype": "text/x-python",
   "name": "python",
   "nbconvert_exporter": "python",
   "pygments_lexer": "ipython3",
   "version": "3.7.3"
  }
 },
 "nbformat": 4,
 "nbformat_minor": 2
}
